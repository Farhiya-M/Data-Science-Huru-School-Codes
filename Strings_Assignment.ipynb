{
  "nbformat": 4,
  "nbformat_minor": 0,
  "metadata": {
    "colab": {
      "name": "Strings Assignment.ipynb",
      "provenance": []
    },
    "kernelspec": {
      "name": "python3",
      "display_name": "Python 3"
    },
    "language_info": {
      "name": "python"
    }
  },
  "cells": [
    {
      "cell_type": "code",
      "metadata": {
        "colab": {
          "base_uri": "https://localhost:8080/"
        },
        "id": "L7ldl4a-hnR3",
        "outputId": "1724de8d-65cb-4542-b9e7-68ad6529e0eb"
      },
      "source": [
        "Data_Science_Class= \"Python, R\"\n",
        "Data_Science_Evening_Class= 'Python, R'\n",
        "print(Data_Science_Class)\n",
        "print(Data_Science_Evening_Class)"
      ],
      "execution_count": null,
      "outputs": [
        {
          "output_type": "stream",
          "text": [
            "Python, R\n",
            "Python, R\n"
          ],
          "name": "stdout"
        }
      ]
    },
    {
      "cell_type": "code",
      "metadata": {
        "id": "D0cOXmjYNu2Y"
      },
      "source": [
        ""
      ],
      "execution_count": null,
      "outputs": []
    },
    {
      "cell_type": "code",
      "metadata": {
        "colab": {
          "base_uri": "https://localhost:8080/"
        },
        "id": "65-ndr-LNvHg",
        "outputId": "de4f6b05-6593-4f70-d476-021a38d36173"
      },
      "source": [
        "Data_Science_Class= \"Python, R\"\n",
        "print(Data_Science_Class[0:6])\n"
      ],
      "execution_count": null,
      "outputs": [
        {
          "output_type": "stream",
          "text": [
            "Python\n"
          ],
          "name": "stdout"
        }
      ]
    },
    {
      "cell_type": "code",
      "metadata": {
        "colab": {
          "base_uri": "https://localhost:8080/"
        },
        "id": "hlZGXa9Ro1Cq",
        "outputId": "0acc5715-c07c-4e9c-c972-3de7f674d1fe"
      },
      "source": [
        "Presentation= ''' Hello, My name is Farhiya,\n",
        "I will be presenting on 'strings' data structure in R and Python\n",
        "Welcome!'''\n",
        "print(Presentation)"
      ],
      "execution_count": null,
      "outputs": [
        {
          "output_type": "stream",
          "text": [
            " Hello, My name is Farhiya,\n",
            "I will be presenting on 'strings' data structure in R and Python\n",
            "Welcome!\n"
          ],
          "name": "stdout"
        }
      ]
    },
    {
      "cell_type": "code",
      "metadata": {
        "id": "5pTqNU4W8iBS"
      },
      "source": [
        ""
      ],
      "execution_count": null,
      "outputs": []
    },
    {
      "cell_type": "markdown",
      "metadata": {
        "id": "sX0K9dC2Jq_s"
      },
      "source": [
        ""
      ]
    },
    {
      "cell_type": "code",
      "metadata": {
        "colab": {
          "base_uri": "https://localhost:8080/"
        },
        "id": "XtGH4SFlB6aR",
        "outputId": "a6d4a499-242d-4cf6-a1ee-be9c41211609"
      },
      "source": [
        "print (len(Presentation))"
      ],
      "execution_count": null,
      "outputs": [
        {
          "output_type": "stream",
          "text": [
            "101\n"
          ],
          "name": "stdout"
        }
      ]
    },
    {
      "cell_type": "code",
      "metadata": {
        "colab": {
          "base_uri": "https://localhost:8080/"
        },
        "id": "_nRriH9aCE3I",
        "outputId": "645a3730-fa87-4675-95cc-9e686cb97bab"
      },
      "source": [
        "Course= \"Data Science\"\n",
        "print(len(Course))"
      ],
      "execution_count": null,
      "outputs": [
        {
          "output_type": "stream",
          "text": [
            "12\n"
          ],
          "name": "stdout"
        }
      ]
    },
    {
      "cell_type": "code",
      "metadata": {
        "colab": {
          "base_uri": "https://localhost:8080/"
        },
        "id": "wRAwPLKsHU-o",
        "outputId": "400606b0-fc7c-4ffd-bc3a-76ca285d6331"
      },
      "source": [
        "Students= \"Agbenya, Anjorin, Josephine, Peter, Farhiya\"\n",
        "print(\"Farhiya\" in Students)"
      ],
      "execution_count": null,
      "outputs": [
        {
          "output_type": "stream",
          "text": [
            "True\n"
          ],
          "name": "stdout"
        }
      ]
    },
    {
      "cell_type": "code",
      "metadata": {
        "colab": {
          "base_uri": "https://localhost:8080/"
        },
        "id": "1Is9z_d9TaPc",
        "outputId": "400606b0-fc7c-4ffd-bc3a-76ca285d6331"
      },
      "source": [
        ""
      ],
      "execution_count": null,
      "outputs": [
        {
          "output_type": "stream",
          "text": [
            "True\n"
          ],
          "name": "stdout"
        }
      ]
    },
    {
      "cell_type": "code",
      "metadata": {
        "colab": {
          "base_uri": "https://localhost:8080/"
        },
        "id": "8SrLmh1mNi2H",
        "outputId": "b1b15ab7-39e8-43c1-93a2-53521528696f"
      },
      "source": [
        "School= \"huru school\"\n",
        "print(School. upper())"
      ],
      "execution_count": null,
      "outputs": [
        {
          "output_type": "stream",
          "text": [
            "HURU SCHOOL\n"
          ],
          "name": "stdout"
        }
      ]
    },
    {
      "cell_type": "code",
      "metadata": {
        "colab": {
          "base_uri": "https://localhost:8080/"
        },
        "id": "9T7JlddTSTPR",
        "outputId": "f6244f42-1ebe-40bf-e32c-aff4a28c7fbc"
      },
      "source": [
        "Class= \"EVENING CLASS\"\n",
        "print(Class. lower())"
      ],
      "execution_count": null,
      "outputs": [
        {
          "output_type": "stream",
          "text": [
            "evening class\n"
          ],
          "name": "stdout"
        }
      ]
    },
    {
      "cell_type": "code",
      "metadata": {
        "colab": {
          "base_uri": "https://localhost:8080/"
        },
        "id": "cLpqIIGQSrqd",
        "outputId": "054e30bf-ae26-4443-e730-0568ea9c5309"
      },
      "source": [
        "Updates= \"   updates are shared via email  \"\n",
        "print(Updates)\n",
        "print(Updates. strip())"
      ],
      "execution_count": null,
      "outputs": [
        {
          "output_type": "stream",
          "text": [
            "   updates are shared via email  \n",
            "updates are shared via email\n"
          ],
          "name": "stdout"
        }
      ]
    },
    {
      "cell_type": "code",
      "metadata": {
        "colab": {
          "base_uri": "https://localhost:8080/"
        },
        "id": "UsvHpyLwTguC",
        "outputId": "45bdf375-4d65-47fb-ea5d-d71ab1c6a3f2"
      },
      "source": [
        "Students= \"Agbenya, Anjorin, Josephine, Peter, Farhiya\"\n",
        "print(Students.replace(\"Farhiya\", \"Todani\"))"
      ],
      "execution_count": null,
      "outputs": [
        {
          "output_type": "stream",
          "text": [
            "Agbenya, Anjorin, Josephine, Peter, Todani\n"
          ],
          "name": "stdout"
        }
      ]
    },
    {
      "cell_type": "code",
      "metadata": {
        "colab": {
          "base_uri": "https://localhost:8080/"
        },
        "id": "sNghv-F5ULDI",
        "outputId": "589bee3d-20fe-4cd6-fdcd-4d08581ad041"
      },
      "source": [
        "Students= \"Agbenya, Anjorin, Josephine, Peter, Farhiya\"\n",
        "print(Students.split(\",\"))"
      ],
      "execution_count": null,
      "outputs": [
        {
          "output_type": "stream",
          "text": [
            "['Agbenya', ' Anjorin', ' Josephine', ' Peter', ' Farhiya']\n"
          ],
          "name": "stdout"
        }
      ]
    },
    {
      "cell_type": "code",
      "metadata": {
        "colab": {
          "base_uri": "https://localhost:8080/"
        },
        "id": "cwOcz6HWaWIt",
        "outputId": "3dd41de1-2f58-4d19-ef4d-1f1a72fcfaaa"
      },
      "source": [
        "Course_A= \"Python\"\n",
        "Course_B= \"R\"\n",
        "Data_Science_Course= Course_A + Course_B\n",
        "print(Data_Science_Course)"
      ],
      "execution_count": null,
      "outputs": [
        {
          "output_type": "stream",
          "text": [
            "PythonR\n"
          ],
          "name": "stdout"
        }
      ]
    },
    {
      "cell_type": "code",
      "metadata": {
        "colab": {
          "base_uri": "https://localhost:8080/"
        },
        "id": "4O31kf3sbCY7",
        "outputId": "93ec6ec1-b80b-4dc3-b679-cdcf7feb0117"
      },
      "source": [
        "Course_A= \"Python\"\n",
        "Course_B= \"R\"\n",
        "Data_Science_Course= Course_A + \" \" + Course_B\n",
        "print(Data_Science_Course)"
      ],
      "execution_count": null,
      "outputs": [
        {
          "output_type": "stream",
          "text": [
            "Python R\n"
          ],
          "name": "stdout"
        }
      ]
    },
    {
      "cell_type": "code",
      "metadata": {
        "colab": {
          "base_uri": "https://localhost:8080/"
        },
        "id": "8XtGGr8M8jjJ",
        "outputId": "81d15aa2-be94-4c3f-e1cf-a3cb2cd492df"
      },
      "source": [
        "Country_Code= 254\n",
        "Name= \"My name is Farhiya, and I am from the {} \"\n",
        "print(Name.format(Country_Code))"
      ],
      "execution_count": null,
      "outputs": [
        {
          "output_type": "stream",
          "text": [
            "My name is Farhiya, and I am from the 254 \n"
          ],
          "name": "stdout"
        }
      ]
    },
    {
      "cell_type": "code",
      "metadata": {
        "colab": {
          "base_uri": "https://localhost:8080/"
        },
        "id": "qso-JS4G_RhO",
        "outputId": "5b29236b-357c-4d66-ca93-1951ac312867"
      },
      "source": [
        "name= \"i don't have one\"\n",
        "print(name)\n",
        "type(name)"
      ],
      "execution_count": null,
      "outputs": [
        {
          "output_type": "stream",
          "text": [
            "i don't have one\n"
          ],
          "name": "stdout"
        },
        {
          "output_type": "execute_result",
          "data": {
            "text/plain": [
              "str"
            ]
          },
          "metadata": {
            "tags": []
          },
          "execution_count": 11
        }
      ]
    },
    {
      "cell_type": "code",
      "metadata": {
        "colab": {
          "base_uri": "https://localhost:8080/"
        },
        "id": "W1aIzNeFFgRC",
        "outputId": "04445583-fe75-4fab-ebaf-92887e50674d"
      },
      "source": [
        "Class= \"Data Science\"\n",
        "type (Class)"
      ],
      "execution_count": null,
      "outputs": [
        {
          "output_type": "execute_result",
          "data": {
            "text/plain": [
              "str"
            ]
          },
          "metadata": {
            "tags": []
          },
          "execution_count": 12
        }
      ]
    },
    {
      "cell_type": "code",
      "metadata": {
        "id": "OP71GiRoRFDL"
      },
      "source": [
        ""
      ],
      "execution_count": null,
      "outputs": []
    }
  ]
}